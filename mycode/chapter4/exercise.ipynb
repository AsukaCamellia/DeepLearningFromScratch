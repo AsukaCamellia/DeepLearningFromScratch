{
 "cells": [
  {
   "cell_type": "code",
   "execution_count": 1,
   "metadata": {},
   "outputs": [],
   "source": [
    "import torch\n",
    "import numpy as np\n",
    "import os\n",
    "import matplotlib.pyplot as plt\n",
    "import pandas"
   ]
  },
  {
   "cell_type": "markdown",
   "metadata": {},
   "source": [
    "均方误差"
   ]
  },
  {
   "cell_type": "code",
   "execution_count": 2,
   "metadata": {},
   "outputs": [],
   "source": [
    "def mean_squared_error(y,t):\n",
    "    return 0.5*np.sum((y-t)**2)"
   ]
  },
  {
   "cell_type": "code",
   "execution_count": 4,
   "metadata": {},
   "outputs": [
    {
     "data": {
      "text/plain": [
       "(0.09750000000000003, 0.5975)"
      ]
     },
     "execution_count": 4,
     "metadata": {},
     "output_type": "execute_result"
    }
   ],
   "source": [
    "t = np.array([0,0,1,0,0,0,0,0,0,0])\n",
    "y = np.array([0.1,0.05,0.6,0.0,0.05,0.1,0.0,0.1,0.0,0.0])\n",
    "y2 = np.array([0.6,0.05,0.1,0.0,0.05,0.1,0.0,0.1,0.0,0.0])\n",
    "mean_squared_error(y,t),mean_squared_error(y2,t)\n"
   ]
  },
  {
   "cell_type": "markdown",
   "metadata": {},
   "source": [
    "交叉熵误差"
   ]
  },
  {
   "cell_type": "code",
   "execution_count": 11,
   "metadata": {},
   "outputs": [
    {
     "data": {
      "image/png": "[encoded data removed]",
      "text/plain": [
       "<Figure size 640x480 with 1 Axes>"
      ]
     },
     "metadata": {},
     "output_type": "display_data"
    }
   ],
   "source": [
    "x = np.arange(0.1,5,0.1)\n",
    "y = np.log(x)\n",
    "plt.plot(x,y)\n",
    "plt.show()"
   ]
  },
  {
   "cell_type": "code",
   "execution_count": 13,
   "metadata": {},
   "outputs": [],
   "source": [
    "def cross_entropy_error(y,t):\n",
    "    delta = 1e-7\n",
    "    return -np.sum(t*np.log(y+delta))"
   ]
  },
  {
   "cell_type": "code",
   "execution_count": 14,
   "metadata": {},
   "outputs": [
    {
     "data": {
      "text/plain": [
       "(0.510825457099338, 2.302584092994546)"
      ]
     },
     "execution_count": 14,
     "metadata": {},
     "output_type": "execute_result"
    }
   ],
   "source": [
    "t = np.array([0,0,1,0,0,0,0,0,0,0])\n",
    "y = np.array([0.1,0.05,0.6,0.0,0.05,0.1,0.0,0.1,0.0,0.0])\n",
    "y2 = np.array([0.6,0.05,0.1,0.0,0.05,0.1,0.0,0.1,0.0,0.0])\n",
    "cross_entropy_error(y,t),cross_entropy_error(y2,t)"
   ]
  },
  {
   "cell_type": "markdown",
   "metadata": {},
   "source": [
    "Mini-batch"
   ]
  },
  {
   "cell_type": "code",
   "execution_count": 16,
   "metadata": {},
   "outputs": [],
   "source": [
    "import sys, os\n",
    "sys.path.append(os.pardir)  # 为了导入父目录的文件而进行的设定\n",
    "import numpy as np\n",
    "import pickle\n",
    "import numpy as np\n",
    "import os.path\n",
    "import gzip\n",
    "import urllib.request\n",
    "\n",
    "dataset_path = os.path.dirname(os.path.abspath('exercise.ipynb'))\n",
    "save_file = os.path.join(dataset_path,'mnist.pkl')\n",
    "\n",
    "url_base = 'http://yann.lecun.com/exdb/mnist/'\n",
    "key_file = {\n",
    "    'train_img':'train-images-idx3-ubyte.gz',\n",
    "    'train_label':'train-labels-idx1-ubyte.gz',\n",
    "    'test_img':'t10k-images-idx3-ubyte.gz',\n",
    "    'test_label':'t10k-labels-idx1-ubyte.gz'\n",
    "}\n",
    "\n",
    "train_num = 60000\n",
    "test_num = 10000\n",
    "img_size = 784\n",
    "img_dim = (1,28,28)\n",
    "\n",
    "\n",
    "def downloadfile(file_name):\n",
    "    file_path = os.path.join(dataset_path,file_name)\n",
    "\n",
    "    if os.path.exists(file_path):\n",
    "        return\n",
    "    print('Downloading '+file_name)\n",
    "    urllib.request.urlretrieve(url_base+file_name,file_path)\n",
    "    print('Done')\n",
    "\n",
    "def downloadmnist():\n",
    "    for v in key_file.values():\n",
    "        downloadfile(v)\n",
    "\n",
    "def load_img(file_name):\n",
    "    file_path = os.path.join(dataset_path,file_name)\n",
    "    print('converting '+file_name+\" to numpy array\")\n",
    "    with gzip.open(file_path,\"rb\") as f:\n",
    "        data = np.frombuffer(f.read(),np.uint8,offset=16)\n",
    "    \n",
    "    data = data.reshape(-1,img_size)\n",
    "    print('done')\n",
    "\n",
    "    return data\n",
    "\n",
    "def load_label(file_name):\n",
    "    file_path = os.path.join(dataset_path,file_name)\n",
    "    print('converting '+file_name+'to numpy array')\n",
    "    with gzip.open(file_path,'rb') as f:\n",
    "        labels = np.frombuffer(f.read(),np.uint8,offset=8)\n",
    "    print('Done')\n",
    "\n",
    "    return labels\n",
    "\n",
    "def convert_numpy():\n",
    "    dataset = {}\n",
    "    dataset['train_img'] = load_img(key_file['train_img'])\n",
    "    dataset['train_label'] = load_label(key_file['train_label'])\n",
    "    dataset['test_img'] = load_img(key_file['test_img'])\n",
    "    dataset['test_label'] = load_label(key_file['test_label'])\n",
    "\n",
    "    return dataset\n",
    "\n",
    "def init_mnist():\n",
    "    downloadmnist()\n",
    "    dataset = convert_numpy()\n",
    "    print('creating pickle file')\n",
    "    with open(save_file,'wb') as f:\n",
    "        pickle.dump(dataset,f,-1)\n",
    "    print('done')\n",
    "\n",
    "def change_one_hot(x):\n",
    "    t = np.zeros((x.size,10))\n",
    "    for idx,row in enumerate(t):\n",
    "        row[x[idx]] = 1\n",
    "    return t\n",
    "\n",
    "\n",
    "def load_mnist(normalize=True, flatten=True, one_hot_label=False):\n",
    "    \"\"\"读入MNIST数据集\n",
    "    \n",
    "    Parameters\n",
    "    ----------\n",
    "    normalize : 将图像的像素值正规化为0.0~1.0\n",
    "    one_hot_label : \n",
    "        one_hot_label为True的情况下,标签作为one-hot数组返回\n",
    "        one-hot数组是指[0,0,1,0,0,0,0,0,0,0]这样的数组\n",
    "    flatten : 是否将图像展开为一维数组\n",
    "    \n",
    "    Returns\n",
    "    -------\n",
    "    (训练图像, 训练标签), (测试图像, 测试标签)\n",
    "    \"\"\"\n",
    "    if not os.path.exists(save_file):\n",
    "        init_mnist()\n",
    "        \n",
    "    with open(save_file, 'rb') as f:\n",
    "        dataset = pickle.load(f)\n",
    "    \n",
    "    if normalize:\n",
    "        for key in ('train_img', 'test_img'):\n",
    "            dataset[key] = dataset[key].astype(np.float32)\n",
    "            dataset[key] /= 255.0\n",
    "            \n",
    "    if one_hot_label:\n",
    "        for key in ('train_label', 'test_label'):\n",
    "            dataset[key] = change_one_hot(dataset[key])\n",
    "    \n",
    "    if not flatten:\n",
    "         for key in ('train_img', 'test_img'):\n",
    "            dataset[key] = dataset[key].reshape(-1, 1, 28, 28)\n",
    "\n",
    "    \n",
    "    return  dataset['train_img'], dataset['train_label'], dataset['test_img'], dataset['test_label']\n",
    "\n",
    "\n",
    "def sigmoid(x):\n",
    "    return 1/(1+np.exp(-x))\n",
    "\n",
    "def softmax(x):\n",
    "    maxn = np.max(x)\n",
    "    exp_a = np.exp(x-maxn)\n",
    "    sum = np.sum(exp_a)\n",
    "    y = exp_a/sum\n",
    "\n",
    "    return y\n",
    "\n",
    "def get_data():\n",
    "    x_train,t_train,x_test,t_test = load_mnist(normalize=True,flatten=True,one_hot_label=False)\n",
    "    return x_test,t_test\n",
    "\n",
    "def init_network():\n",
    "    with open('D:\\deeplearningfromScratch\\mycode\\chapter3\\sample_weight.pkl','rb') as f:\n",
    "        network = pickle.load(f)\n",
    "    return network\n",
    "\n",
    "def predict(network,x):\n",
    "    w1,w2,w3 = network['W1'],network['W2'],network['W3']\n",
    "    b1,b2,b3 = network['b1'],network['b2'],network['b3']\n",
    "    z1 = sigmoid(np.dot(x,w1)+b1)\n",
    "    z2 = sigmoid(np.dot(z1,w2)+b2)\n",
    "    y = softmax(np.dot(z2,w3)+b3)\n",
    "    return y\n"
   ]
  },
  {
   "cell_type": "code",
   "execution_count": 17,
   "metadata": {},
   "outputs": [
    {
     "name": "stdout",
     "output_type": "stream",
     "text": [
      "Downloading train-images-idx3-ubyte.gz\n",
      "Done\n",
      "Downloading train-labels-idx1-ubyte.gz\n",
      "Done\n",
      "Downloading t10k-images-idx3-ubyte.gz\n",
      "Done\n",
      "Downloading t10k-labels-idx1-ubyte.gz\n",
      "Done\n",
      "converting train-images-idx3-ubyte.gz to numpy array\n",
      "done\n",
      "converting train-labels-idx1-ubyte.gzto numpy array\n",
      "Done\n",
      "converting t10k-images-idx3-ubyte.gz to numpy array\n",
      "done\n",
      "converting t10k-labels-idx1-ubyte.gzto numpy array\n",
      "Done\n",
      "creating pickle file\n",
      "done\n"
     ]
    }
   ],
   "source": [
    "x_train,t_train,x_test,t_test = load_mnist(normalize=True,flatten=True,one_hot_label=True)"
   ]
  },
  {
   "cell_type": "code",
   "execution_count": 30,
   "metadata": {},
   "outputs": [
    {
     "data": {
      "text/plain": [
       "2"
      ]
     },
     "execution_count": 30,
     "metadata": {},
     "output_type": "execute_result"
    }
   ],
   "source": [
    "x_train.shape,t_train.shape,t_train[0]\n",
    "x_train.ndim"
   ]
  },
  {
   "cell_type": "markdown",
   "metadata": {},
   "source": [
    "np.random.choice(6000,10)会从0-5999之间随机选择10个数字"
   ]
  },
  {
   "cell_type": "code",
   "execution_count": 23,
   "metadata": {},
   "outputs": [],
   "source": [
    "train_size = x_train.shape[0]\n",
    "batch_size = 10\n",
    "batch_mask = np.random.choice(train_size,batch_size)\n",
    "x_batch = x_train[batch_mask]\n",
    "t_batch = t_train[batch_mask]"
   ]
  },
  {
   "cell_type": "code",
   "execution_count": 38,
   "metadata": {},
   "outputs": [
    {
     "data": {
      "text/plain": [
       "(0.510825457099338, 2.302584092994546)"
      ]
     },
     "execution_count": 38,
     "metadata": {},
     "output_type": "execute_result"
    }
   ],
   "source": [
    "def cross_entropy_error(y,t):\n",
    "    if y.ndim == 1:\n",
    "        y = y.reshape(1,y.size)\n",
    "        t = t.reshape(1,t.size)\n",
    "\n",
    "    batch_size = y.shape[0]\n",
    "\n",
    "    return -np.sum(t*np.log(y+1e-7))/batch_size\n",
    "\n",
    "cross_entropy_error(y,t),cross_entropy_error(y2,t)\n"
   ]
  },
  {
   "cell_type": "code",
   "execution_count": 54,
   "metadata": {},
   "outputs": [
    {
     "data": {
      "text/plain": [
       "((10000,),\n",
       " 10000,\n",
       " 7,\n",
       " 1,\n",
       " 2,\n",
       " array([7, 2, 1, ..., 4, 5, 6], dtype=uint8),\n",
       " 10000,\n",
       " array([[7, 2, 1, ..., 4, 5, 6]], dtype=uint8))"
      ]
     },
     "execution_count": 54,
     "metadata": {},
     "output_type": "execute_result"
    }
   ],
   "source": [
    "x_train,t_train,x_test,t_test = load_mnist(normalize=True,flatten=True,one_hot_label=False)\n",
    "change_t = t_test.reshape(1,t_test.size)\n",
    "t_test.shape,t_test.size,t_test[0],t_test.ndim,change_t.ndim,change_t[0],change_t[0].size,change_t"
   ]
  },
  {
   "cell_type": "code",
   "execution_count": 78,
   "metadata": {},
   "outputs": [
    {
     "data": {
      "text/plain": [
       "array([0., 0., 0., 0., 0., 0., 0., 0., 0., 0.], dtype=float32)"
      ]
     },
     "execution_count": 78,
     "metadata": {},
     "output_type": "execute_result"
    }
   ],
   "source": [
    "test_size = x_test.shape[0]\n",
    "ex_batch_mask = np.random.choice(test_size,batch_size)\n",
    "ex_batch = x_test[ex_batch_mask]\n",
    "et_batch = t_test[ex_batch_mask]\n",
    "ex_batch[np.arange(batch_size),et_batch]"
   ]
  },
  {
   "cell_type": "code",
   "execution_count": 67,
   "metadata": {},
   "outputs": [],
   "source": [
    "def cross_entropy_error_notonehot(y,t):\n",
    "    if y.ndim == 1:\n",
    "        y = y.reshape(1,y.size)\n",
    "        t = t.reshape(1,t.size)\n",
    "\n",
    "    batch_size = y.shape[0]\n",
    "\n",
    "    return -np.sum(np.log(y[np.arange(batch_size),t]+1e-10))/batch_size"
   ]
  },
  {
   "cell_type": "code",
   "execution_count": 82,
   "metadata": {},
   "outputs": [
    {
     "data": {
      "text/plain": [
       "numpy.ndarray"
      ]
     },
     "execution_count": 82,
     "metadata": {},
     "output_type": "execute_result"
    }
   ],
   "source": [
    "type(et_batch)"
   ]
  },
  {
   "cell_type": "code",
   "execution_count": 87,
   "metadata": {},
   "outputs": [
    {
     "data": {
      "text/plain": [
       "0.510825623599324"
      ]
     },
     "execution_count": 87,
     "metadata": {},
     "output_type": "execute_result"
    }
   ],
   "source": [
    "t = np.array([2])\n",
    "y = np.array([0.1,0.05,0.6,0.0,0.05,0.1,0.0,0.1,0.0,0.0])\n",
    "cross_entropy_error_notonehot(y,t)\n"
   ]
  },
  {
   "cell_type": "code",
   "execution_count": 88,
   "metadata": {},
   "outputs": [],
   "source": [
    "def numerical_diff(f,x):\n",
    "    h = 10e-50\n",
    "    return (f(x+h)-f(x))/h"
   ]
  },
  {
   "cell_type": "code",
   "execution_count": 89,
   "metadata": {},
   "outputs": [],
   "source": [
    "def numerical_diff(f,x):\n",
    "    h = 1e-4\n",
    "    return (f(x+h)-f(x-h))/(2*h)"
   ]
  },
  {
   "cell_type": "code",
   "execution_count": 90,
   "metadata": {},
   "outputs": [],
   "source": [
    "def f1(x):\n",
    "    return 0.01*x**2+0.1*x"
   ]
  },
  {
   "cell_type": "code",
   "execution_count": 93,
   "metadata": {},
   "outputs": [
    {
     "data": {
      "text/plain": [
       "(0.1999999999990898, 0.2999999999986347)"
      ]
     },
     "execution_count": 93,
     "metadata": {},
     "output_type": "execute_result"
    }
   ],
   "source": [
    "numerical_diff(f1,5),numerical_diff(f1,10)"
   ]
  },
  {
   "cell_type": "code",
   "execution_count": 105,
   "metadata": {},
   "outputs": [
    {
     "data": {
      "image/png": "[encoded data removed]",
      "text/plain": [
       "<Figure size 640x480 with 1 Axes>"
      ]
     },
     "metadata": {},
     "output_type": "display_data"
    }
   ],
   "source": [
    "x = np.arange(0,20,0.1)\n",
    "y = f1(x)\n",
    "k1 = numerical_diff(f1,5)\n",
    "b1 = f1(5)-k1*5\n",
    "y1 = k1*x + b1\n",
    "k2 = numerical_diff(f1,10)\n",
    "b2 = f1(10)-k2*10\n",
    "y2 = k2*x + b2\n",
    "plt.plot(x,y)\n",
    "plt.plot(x,y1)\n",
    "plt.plot(x,y2)\n",
    "plt.show()"
   ]
  },
  {
   "cell_type": "code",
   "execution_count": 113,
   "metadata": {},
   "outputs": [],
   "source": [
    "def f2(x):\n",
    "    return x[0]**2+x[1]**2\n",
    "\n",
    "x1 = np.arange(-2,2.5,0.25)\n",
    "x2 = np.arange(-2,2.5,0.25)\n",
    "x3 = np.row_stack((x1,x2))\n",
    "\n"
   ]
  },
  {
   "cell_type": "code",
   "execution_count": 115,
   "metadata": {},
   "outputs": [
    {
     "data": {
      "text/plain": [
       "(6.00000000000378, 7.999999999999119)"
      ]
     },
     "execution_count": 115,
     "metadata": {},
     "output_type": "execute_result"
    }
   ],
   "source": [
    "def f2_1(x0):\n",
    "    return x0**2+4**2\n",
    "\n",
    "def f2_2(x1):\n",
    "    return 3**2+x1**2\n",
    "\n",
    "numerical_diff(f2_1,3),numerical_diff(f2_2,4)"
   ]
  },
  {
   "cell_type": "code",
   "execution_count": 145,
   "metadata": {},
   "outputs": [],
   "source": [
    "def numerical_gradient(f,x):\n",
    "    h = 1e-4\n",
    "    grad = np.zeros_like(x)\n",
    "\n",
    "    for idx in range(x.size):\n",
    "        temp = x[idx]\n",
    "        x[idx] = temp+h\n",
    "        fxh1 = f2(x)\n",
    "\n",
    "        x[idx] = temp-h\n",
    "        fxh2 = f2(x)\n",
    "\n",
    "        grad[idx] = (fxh1-fxh2)/(2*h)\n",
    "        x[idx] = temp\n",
    "\n",
    "    return grad\n",
    "\n"
   ]
  },
  {
   "cell_type": "code",
   "execution_count": 146,
   "metadata": {},
   "outputs": [
    {
     "data": {
      "text/plain": [
       "(array([6., 8.]), array([0., 4.]), array([6., 0.]))"
      ]
     },
     "execution_count": 146,
     "metadata": {},
     "output_type": "execute_result"
    }
   ],
   "source": [
    "numerical_gradient(f2,np.array([3.0,4.0])),numerical_gradient(f2,np.array([0.0,2.0])),numerical_gradient(f2,np.array([3.0,0.0]))"
   ]
  },
  {
   "cell_type": "code",
   "execution_count": 147,
   "metadata": {},
   "outputs": [],
   "source": [
    "def gradient_descent(f,init_x,lr,step_num = 100):\n",
    "    x = init_x\n",
    "\n",
    "    for i in range(step_num):\n",
    "        grad = numerical_gradient(f2,x)\n",
    "        x -= lr*grad\n",
    "    return x"
   ]
  },
  {
   "cell_type": "code",
   "execution_count": 154,
   "metadata": {},
   "outputs": [
    {
     "data": {
      "text/plain": [
       "array([-6.11110793e-10,  8.14814391e-10])"
      ]
     },
     "execution_count": 154,
     "metadata": {},
     "output_type": "execute_result"
    }
   ],
   "source": [
    "init_x = np.array([-3.0,4.0])\n",
    "gradient_descent(f2,init_x=init_x,lr=0.1)"
   ]
  },
  {
   "cell_type": "code",
   "execution_count": 170,
   "metadata": {},
   "outputs": [
    {
     "data": {
      "text/plain": [
       "array([ 1.95510224e+12, -2.60686966e+12])"
      ]
     },
     "execution_count": 170,
     "metadata": {},
     "output_type": "execute_result"
    }
   ],
   "source": [
    "gradient_descent(f2,init_x=init_x,lr=10000)"
   ]
  },
  {
   "cell_type": "code",
   "execution_count": null,
   "metadata": {},
   "outputs": [],
   "source": []
  },
  {
   "cell_type": "code",
   "execution_count": null,
   "metadata": {},
   "outputs": [],
   "source": []
  }
 ],
 "metadata": {
  "kernelspec": {
   "display_name": "pytorch",
   "language": "python",
   "name": "python3"
  },
  "language_info": {
   "codemirror_mode": {
    "name": "ipython",
    "version": 3
   },
   "file_extension": ".py",
   "mimetype": "text/x-python",
   "name": "python",
   "nbconvert_exporter": "python",
   "pygments_lexer": "ipython3",
   "version": "3.10.12"
  },
  "orig_nbformat": 4
 },
 "nbformat": 4,
 "nbformat_minor": 2
}
